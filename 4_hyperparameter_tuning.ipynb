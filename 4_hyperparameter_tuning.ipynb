{
 "cells": [
  {
   "cell_type": "markdown",
   "metadata": {},
   "source": [
    "# Hyperparameter Tuning"
   ]
  },
  {
   "cell_type": "code",
   "execution_count": 153,
   "metadata": {},
   "outputs": [],
   "source": [
    "import numpy as np\n",
    "import pandas as pd\n",
    "\n",
    "import joblib\n",
    "\n",
    "from sklearn.model_selection import train_test_split, GridSearchCV, RandomizedSearchCV\n",
    "\n",
    "from src.helper_utilities import load_data\n",
    "from src.modeling_utilities import f2_scorer\n",
    "from src.plotting_utilities import plot_errors\n"
   ]
  },
  {
   "cell_type": "code",
   "execution_count": 141,
   "metadata": {},
   "outputs": [],
   "source": [
    "import warnings\n",
    "warnings.filterwarnings(action='ignore', category=Warning)\n",
    "warnings.filterwarnings(action='ignore', category=UserWarning)\n",
    "warnings.filterwarnings(action='ignore', category=FutureWarning)"
   ]
  },
  {
   "cell_type": "code",
   "execution_count": 142,
   "metadata": {},
   "outputs": [],
   "source": [
    "random_state = 42\n",
    "cv = 5\n",
    "n_iter = 50"
   ]
  },
  {
   "cell_type": "code",
   "execution_count": 143,
   "metadata": {},
   "outputs": [
    {
     "data": {
      "text/html": [
       "<div>\n",
       "<style scoped>\n",
       "    .dataframe tbody tr th:only-of-type {\n",
       "        vertical-align: middle;\n",
       "    }\n",
       "\n",
       "    .dataframe tbody tr th {\n",
       "        vertical-align: top;\n",
       "    }\n",
       "\n",
       "    .dataframe thead th {\n",
       "        text-align: right;\n",
       "    }\n",
       "</style>\n",
       "<table border=\"1\" class=\"dataframe\">\n",
       "  <thead>\n",
       "    <tr style=\"text-align: right;\">\n",
       "      <th></th>\n",
       "      <th>0</th>\n",
       "      <th>1</th>\n",
       "      <th>2</th>\n",
       "      <th>3</th>\n",
       "      <th>4</th>\n",
       "      <th>5</th>\n",
       "      <th>6</th>\n",
       "      <th>7</th>\n",
       "      <th>8</th>\n",
       "      <th>9</th>\n",
       "      <th>10</th>\n",
       "      <th>11</th>\n",
       "      <th>12</th>\n",
       "      <th>13</th>\n",
       "      <th>14</th>\n",
       "      <th>15</th>\n",
       "      <th>16</th>\n",
       "      <th>17</th>\n",
       "      <th>18</th>\n",
       "      <th>19</th>\n",
       "    </tr>\n",
       "  </thead>\n",
       "  <tbody>\n",
       "    <tr>\n",
       "      <th>690</th>\n",
       "      <td>A11</td>\n",
       "      <td>15.0</td>\n",
       "      <td>A34</td>\n",
       "      <td>A42</td>\n",
       "      <td>975.0</td>\n",
       "      <td>A61</td>\n",
       "      <td>A73</td>\n",
       "      <td>2.0</td>\n",
       "      <td>A91</td>\n",
       "      <td>A101</td>\n",
       "      <td>3.0</td>\n",
       "      <td>A122</td>\n",
       "      <td>25.0</td>\n",
       "      <td>A143</td>\n",
       "      <td>A152</td>\n",
       "      <td>2.0</td>\n",
       "      <td>A173</td>\n",
       "      <td>1.0</td>\n",
       "      <td>A191</td>\n",
       "      <td>A201</td>\n",
       "    </tr>\n",
       "    <tr>\n",
       "      <th>296</th>\n",
       "      <td>A14</td>\n",
       "      <td>12.0</td>\n",
       "      <td>A32</td>\n",
       "      <td>A41</td>\n",
       "      <td>4675.0</td>\n",
       "      <td>A65</td>\n",
       "      <td>A72</td>\n",
       "      <td>NaN</td>\n",
       "      <td>A92</td>\n",
       "      <td>A101</td>\n",
       "      <td>4.0</td>\n",
       "      <td>A123</td>\n",
       "      <td>20.0</td>\n",
       "      <td>A143</td>\n",
       "      <td>A151</td>\n",
       "      <td>1.0</td>\n",
       "      <td>A173</td>\n",
       "      <td>1.0</td>\n",
       "      <td>A191</td>\n",
       "      <td>A201</td>\n",
       "    </tr>\n",
       "    <tr>\n",
       "      <th>672</th>\n",
       "      <td>A14</td>\n",
       "      <td>60.0</td>\n",
       "      <td>A32</td>\n",
       "      <td>A40</td>\n",
       "      <td>10366.0</td>\n",
       "      <td>A61</td>\n",
       "      <td>A75</td>\n",
       "      <td>2.0</td>\n",
       "      <td>A93</td>\n",
       "      <td>A101</td>\n",
       "      <td>4.0</td>\n",
       "      <td>A122</td>\n",
       "      <td>42.0</td>\n",
       "      <td>A143</td>\n",
       "      <td>A152</td>\n",
       "      <td>1.0</td>\n",
       "      <td>A174</td>\n",
       "      <td>1.0</td>\n",
       "      <td>A192</td>\n",
       "      <td>A201</td>\n",
       "    </tr>\n",
       "  </tbody>\n",
       "</table>\n",
       "</div>"
      ],
      "text/plain": [
       "      0     1    2    3        4    5    6    7    8     9    10    11    12  \\\n",
       "690  A11  15.0  A34  A42    975.0  A61  A73  2.0  A91  A101  3.0  A122  25.0   \n",
       "296  A14  12.0  A32  A41   4675.0  A65  A72  NaN  A92  A101  4.0  A123  20.0   \n",
       "672  A14  60.0  A32  A40  10366.0  A61  A75  2.0  A93  A101  4.0  A122  42.0   \n",
       "\n",
       "       13    14   15    16   17    18    19  \n",
       "690  A143  A152  2.0  A173  1.0  A191  A201  \n",
       "296  A143  A151  1.0  A173  1.0  A191  A201  \n",
       "672  A143  A152  1.0  A174  1.0  A192  A201  "
      ]
     },
     "execution_count": 143,
     "metadata": {},
     "output_type": "execute_result"
    }
   ],
   "source": [
    "# load the original dataset as df\n",
    "X, y = load_data(mode='modeling', format='dataframe', introduce_nans=0.01, random_state=random_state)\n",
    "\n",
    "# the \"orange\" dataset\n",
    "X_train, X_test, y_train, y_test = train_test_split(X, y, stratify=y, test_size=0.2, random_state=random_state)\n",
    "\n",
    "# the \"green\" dataset\n",
    "X_dev, X_val, y_dev, y_val = train_test_split(X_train, y_train, test_size=0.2, random_state=random_state)\n",
    "\n",
    "# X_... is a pd.DataFrame\n",
    "X_test[:3]"
   ]
  },
  {
   "cell_type": "code",
   "execution_count": 144,
   "metadata": {},
   "outputs": [],
   "source": [
    "sv = joblib.load(\"models/sv.pkl\")\n",
    "gb = joblib.load(\"models/gb.pkl\")\n",
    "lr = joblib.load(\"models/lr.pkl\")\n",
    "pr = joblib.load(\"models/pr.pkl\")\n",
    "dt = joblib.load(\"models/dt.pkl\")"
   ]
  },
  {
   "cell_type": "code",
   "execution_count": 145,
   "metadata": {},
   "outputs": [
    {
     "name": "stdout",
     "output_type": "stream",
     "text": [
      "SVC (fitting time: 0.6):\n",
      "    kernel  gamma class_weight     C  score    std\n",
      "0   linear   auto     balanced  0.01   0.69  0.027\n",
      "9   linear      1     balanced  0.01   0.69  0.027\n",
      "18  linear     10     balanced  0.01   0.69  0.027\n",
      "19  linear    0.1     balanced  0.01   0.69  0.027\n",
      "24  linear  scale     balanced  0.01   0.69  0.027\n",
      "\n",
      "\n",
      "LGBMClassifier (fitting time: 0.05):\n",
      "   n_estimators class_weight  score    std\n",
      "0            25     balanced   0.62  0.042\n",
      "1            50     balanced   0.61  0.054\n",
      "2           100     balanced   0.58  0.062\n",
      "3           150     balanced   0.57  0.060\n",
      "\n",
      "\n",
      "LogisticRegression (fitting time: 0.13):\n",
      "      solver penalty  max_iter class_weight      C  score    std\n",
      "7       saga      l1       900     balanced   10.0   0.66  0.054\n",
      "8  liblinear      l1       900     balanced  100.0   0.66  0.054\n",
      "9       saga      l1       900     balanced  100.0   0.66  0.054\n",
      "6  liblinear      l1       900     balanced   10.0   0.66  0.056\n",
      "4  liblinear      l1       900     balanced    1.0   0.66  0.065\n",
      "\n",
      "\n",
      "LogisticRegression (fitting time: 0.11):\n",
      "   degree     solver penalty  max_iter class_weight     C  score    std\n",
      "3       2      lbfgs      l2       900     balanced  0.01   0.69  0.054\n",
      "6       1      lbfgs      l2       900     balanced  0.10   0.67  0.049\n",
      "4       1  liblinear      l2       900     balanced  0.10   0.67  0.059\n",
      "1       2  liblinear      l2       900     balanced  0.01   0.67  0.061\n",
      "8       1  liblinear      l2       900     balanced  1.00   0.67  0.068\n",
      "\n",
      "\n",
      "DecisionTreeClassifier (fitting time: 0.02):\n",
      "   min_samples_split  min_samples_leaf class_weight  score    std\n",
      "6                  2                 3     balanced   0.56  0.045\n",
      "7                  3                 3     balanced   0.56  0.045\n",
      "8                  5                 3     balanced   0.56  0.045\n",
      "5                  5                 2     balanced   0.53  0.091\n",
      "3                  2                 2     balanced   0.52  0.067\n",
      "\n",
      "\n"
     ]
    }
   ],
   "source": [
    "hps = []\n",
    "\n",
    "params = {\n",
    "    sv: {\n",
    "        'classifier__class_weight': ['balanced'],\n",
    "        'classifier__C': np.logspace(-2, 2, num=5, base=10),\n",
    "        'classifier__kernel': ['linear', 'rbf'],\n",
    "        'classifier__gamma': ['scale', 'auto', 0.1, 1, 10],\n",
    "            },\n",
    "    \n",
    "    gb: {\n",
    "        'classifier__class_weight': ['balanced'],\n",
    "        'classifier__n_estimators': [25, 50, 100, 150],\n",
    "        #'classifier__objective': ['binary', f2_scorer],\n",
    "        #'classifier__min_child_samples': [3, 5, 10, 20, 25]\n",
    "        },\n",
    "\n",
    "    lr: {\n",
    "        'classifier__penalty': ['l1'],\n",
    "        'classifier__class_weight': ['balanced'],\n",
    "        'classifier__max_iter': [900],\n",
    "        'classifier__solver': ['liblinear', 'saga'],\n",
    "        'classifier__C': np.logspace(-2, 2, num=5, base=10),\n",
    "    },\n",
    "\n",
    "    pr: {\n",
    "        'classifier__class_weight': ['balanced'],\n",
    "        'classifier__penalty': ['l2'],\n",
    "        'classifier__max_iter': [900],\n",
    "        'poly__degree': [1,2],\n",
    "        'classifier__solver': ['liblinear', 'lbfgs'],\n",
    "        'classifier__C': np.logspace(-2, 2, num=5, base=10),\n",
    "    },\n",
    "\n",
    "    dt: {\n",
    "        'classifier__class_weight': ['balanced'],\n",
    "        'classifier__min_samples_split': [2, 3, 5],\n",
    "        'classifier__min_samples_leaf': [1, 2, 3]\n",
    "    },\n",
    "}\n",
    "\n",
    "\n",
    "for md, d in params.items():\n",
    "    hp = RandomizedSearchCV(md, d, cv=cv, scoring=f2_scorer, n_iter=n_iter).fit(X_train, y_train)\n",
    "    hps.append(hp)\n",
    "\n",
    "    df = pd.DataFrame(hp.cv_results_['params'])\n",
    "    df[\"score\"] = hp.cv_results_['mean_test_score'].round(2)\n",
    "    df[\"std\"] = hp.cv_results_['std_test_score'].round(3)\n",
    "    df.columns = [col[col.find(\"__\")+2 if col.find(\"__\")>0 else 0:] for col in df.columns]\n",
    "    print(md[-1].__class__.__name__ + f\" (fitting time: {hp.cv_results_['mean_fit_time'].mean().round(2)}):\")\n",
    "    print(df.sort_values(by=['score', 'std'], ascending=[False, True]).head(5))\n",
    "    print(); print()\n"
   ]
  },
  {
   "cell_type": "code",
   "execution_count": 146,
   "metadata": {},
   "outputs": [
    {
     "data": {
      "text/html": [
       "<div>\n",
       "<style scoped>\n",
       "    .dataframe tbody tr th:only-of-type {\n",
       "        vertical-align: middle;\n",
       "    }\n",
       "\n",
       "    .dataframe tbody tr th {\n",
       "        vertical-align: top;\n",
       "    }\n",
       "\n",
       "    .dataframe thead th {\n",
       "        text-align: right;\n",
       "    }\n",
       "</style>\n",
       "<table border=\"1\" class=\"dataframe\">\n",
       "  <thead>\n",
       "    <tr style=\"text-align: right;\">\n",
       "      <th></th>\n",
       "      <th>F2</th>\n",
       "    </tr>\n",
       "  </thead>\n",
       "  <tbody>\n",
       "    <tr>\n",
       "      <th>SVC</th>\n",
       "      <td>0.69</td>\n",
       "    </tr>\n",
       "    <tr>\n",
       "      <th>LogisticRegression2</th>\n",
       "      <td>0.69</td>\n",
       "    </tr>\n",
       "    <tr>\n",
       "      <th>LogisticRegression</th>\n",
       "      <td>0.66</td>\n",
       "    </tr>\n",
       "    <tr>\n",
       "      <th>LGBMClassifier</th>\n",
       "      <td>0.62</td>\n",
       "    </tr>\n",
       "    <tr>\n",
       "      <th>DecisionTreeClassifier</th>\n",
       "      <td>0.56</td>\n",
       "    </tr>\n",
       "  </tbody>\n",
       "</table>\n",
       "</div>"
      ],
      "text/plain": [
       "                          F2\n",
       "SVC                     0.69\n",
       "LogisticRegression2     0.69\n",
       "LogisticRegression      0.66\n",
       "LGBMClassifier          0.62\n",
       "DecisionTreeClassifier  0.56"
      ]
     },
     "execution_count": 146,
     "metadata": {},
     "output_type": "execute_result"
    }
   ],
   "source": [
    "# View the best scores (F2)\n",
    "pd.Series({hp.best_estimator_[-1].__class__.__name__ + (\"2\" if hasattr(hp.best_estimator_[-1], 'penalty') and hp.best_estimator_[-1].penalty == 'l2' else \"\")\n",
    ": hp.best_score_ for hp in hps}).sort_values(ascending=False).to_frame(name=\"F2\").round(2)"
   ]
  },
  {
   "cell_type": "code",
   "execution_count": 148,
   "metadata": {},
   "outputs": [],
   "source": [
    "best_estimators = tuple(pd.Series({hp.best_estimator_: hp.best_score_ for hp in hps}).sort_values(ascending=False).index)"
   ]
  },
  {
   "cell_type": "code",
   "execution_count": 149,
   "metadata": {},
   "outputs": [
    {
     "data": {
      "text/plain": [
       "['models/best_estimators']"
      ]
     },
     "execution_count": 149,
     "metadata": {},
     "output_type": "execute_result"
    }
   ],
   "source": [
    "# save the best models\n",
    "joblib.dump(best_estimators, 'models/best_estimators')\n"
   ]
  },
  {
   "cell_type": "code",
   "execution_count": 150,
   "metadata": {},
   "outputs": [
    {
     "data": {
      "image/png": "[encoded data removed]",
      "text/plain": [
       "<Figure size 1000x600 with 2 Axes>"
      ]
     },
     "metadata": {},
     "output_type": "display_data"
    }
   ],
   "source": [
    "# Visualize the errors made\n",
    "plot_errors(X_train, y_train, estimators=best_estimators, scorer=f2_scorer);"
   ]
  }
 ],
 "metadata": {
  "kernelspec": {
   "display_name": ".venv",
   "language": "python",
   "name": "python3"
  },
  "language_info": {
   "codemirror_mode": {
    "name": "ipython",
    "version": 3
   },
   "file_extension": ".py",
   "mimetype": "text/x-python",
   "name": "python",
   "nbconvert_exporter": "python",
   "pygments_lexer": "ipython3",
   "version": "3.10.12"
  }
 },
 "nbformat": 4,
 "nbformat_minor": 2
}
