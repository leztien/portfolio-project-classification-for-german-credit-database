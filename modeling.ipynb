{
 "cells": [
  {
   "cell_type": "markdown",
   "metadata": {},
   "source": [
    "# German Credit dataset\n",
    "\n",
    "## Contents\n",
    "\n",
    "4. Build a simple baseline model\n",
    "5. Prepare the data to better expose the underlying patterns to machine learning algorithm (incl feature engineering)\n",
    "6. Explore many modesl; Select a model and train it\n",
    "7. Fine-tune the model\n",
    "8. Present your solution\n",
    "9. Deploy, monitor and maintain your system\n",
    "\n",
    "\n",
    "\n",
    "##### TODO\n",
    "- Ensemble model?\n",
    "- Deploy\n",
    "\n",
    "\n",
    "## The metric: f2"
   ]
  },
  {
   "cell_type": "code",
   "execution_count": 1,
   "metadata": {},
   "outputs": [
    {
     "name": "stderr",
     "output_type": "stream",
     "text": [
      "/tmp/ipykernel_273341/2782411734.py:3: DeprecationWarning: \n",
      "Pyarrow will become a required dependency of pandas in the next major release of pandas (pandas 3.0),\n",
      "(to allow more performant data types, such as the Arrow string type, and better interoperability with other libraries)\n",
      "but was not found to be installed on your system.\n",
      "If this would cause problems for you,\n",
      "please provide us feedback at https://github.com/pandas-dev/pandas/issues/54466\n",
      "        \n",
      "  import pandas as pd\n"
     ]
    }
   ],
   "source": [
    "# Imports\n",
    "import numpy as np\n",
    "import pandas as pd\n"
   ]
  },
  {
   "cell_type": "code",
   "execution_count": 2,
   "metadata": {},
   "outputs": [],
   "source": [
    "# sklearn imports\n",
    "from sklearn.metrics import (accuracy_score, recall_score, precision_score, fbeta_score, roc_auc_score, classification_report)\n",
    "from sklearn.model_selection import train_test_split, cross_val_score, GridSearchCV\n"
   ]
  },
  {
   "cell_type": "code",
   "execution_count": 3,
   "metadata": {},
   "outputs": [],
   "source": [
    "# Custom utilities imports\n",
    "from src.modeling_utilities import Baseline, classification_scores, f2"
   ]
  },
  {
   "cell_type": "code",
   "execution_count": 4,
   "metadata": {},
   "outputs": [
    {
     "data": {
      "text/html": [
       "<div>\n",
       "<style scoped>\n",
       "    .dataframe tbody tr th:only-of-type {\n",
       "        vertical-align: middle;\n",
       "    }\n",
       "\n",
       "    .dataframe tbody tr th {\n",
       "        vertical-align: top;\n",
       "    }\n",
       "\n",
       "    .dataframe thead th {\n",
       "        text-align: right;\n",
       "    }\n",
       "</style>\n",
       "<table border=\"1\" class=\"dataframe\">\n",
       "  <thead>\n",
       "    <tr style=\"text-align: right;\">\n",
       "      <th></th>\n",
       "      <th>tenure</th>\n",
       "      <th>amount</th>\n",
       "      <th>rate</th>\n",
       "      <th>residence</th>\n",
       "      <th>age</th>\n",
       "      <th>credits</th>\n",
       "      <th>maintenance</th>\n",
       "      <th>history</th>\n",
       "      <th>savings</th>\n",
       "      <th>employment</th>\n",
       "      <th>...</th>\n",
       "      <th>status</th>\n",
       "      <th>purpose</th>\n",
       "      <th>guarantor</th>\n",
       "      <th>installments</th>\n",
       "      <th>housing</th>\n",
       "      <th>telephone</th>\n",
       "      <th>foreign</th>\n",
       "      <th>sex</th>\n",
       "      <th>personal</th>\n",
       "      <th>label</th>\n",
       "    </tr>\n",
       "  </thead>\n",
       "  <tbody>\n",
       "    <tr>\n",
       "      <th>995</th>\n",
       "      <td>12</td>\n",
       "      <td>1736</td>\n",
       "      <td>3</td>\n",
       "      <td>4</td>\n",
       "      <td>31</td>\n",
       "      <td>1</td>\n",
       "      <td>1</td>\n",
       "      <td>so far so good</td>\n",
       "      <td>[0, 100)</td>\n",
       "      <td>[4, 7)</td>\n",
       "      <td>...</td>\n",
       "      <td>no account</td>\n",
       "      <td>furniture</td>\n",
       "      <td>none</td>\n",
       "      <td>none</td>\n",
       "      <td>ownership</td>\n",
       "      <td>none</td>\n",
       "      <td>True</td>\n",
       "      <td>female</td>\n",
       "      <td>female divorced/separated/married</td>\n",
       "      <td>0</td>\n",
       "    </tr>\n",
       "    <tr>\n",
       "      <th>996</th>\n",
       "      <td>30</td>\n",
       "      <td>3857</td>\n",
       "      <td>4</td>\n",
       "      <td>4</td>\n",
       "      <td>40</td>\n",
       "      <td>1</td>\n",
       "      <td>1</td>\n",
       "      <td>so far so good</td>\n",
       "      <td>[0, 100)</td>\n",
       "      <td>[1, 4)</td>\n",
       "      <td>...</td>\n",
       "      <td>overdrawn</td>\n",
       "      <td>used car</td>\n",
       "      <td>none</td>\n",
       "      <td>none</td>\n",
       "      <td>ownership</td>\n",
       "      <td>yes</td>\n",
       "      <td>True</td>\n",
       "      <td>male</td>\n",
       "      <td>male divorced/separated</td>\n",
       "      <td>0</td>\n",
       "    </tr>\n",
       "    <tr>\n",
       "      <th>997</th>\n",
       "      <td>12</td>\n",
       "      <td>804</td>\n",
       "      <td>4</td>\n",
       "      <td>4</td>\n",
       "      <td>38</td>\n",
       "      <td>1</td>\n",
       "      <td>1</td>\n",
       "      <td>so far so good</td>\n",
       "      <td>[0, 100)</td>\n",
       "      <td>[7, inf)</td>\n",
       "      <td>...</td>\n",
       "      <td>no account</td>\n",
       "      <td>television</td>\n",
       "      <td>none</td>\n",
       "      <td>none</td>\n",
       "      <td>ownership</td>\n",
       "      <td>none</td>\n",
       "      <td>True</td>\n",
       "      <td>male</td>\n",
       "      <td>male single</td>\n",
       "      <td>0</td>\n",
       "    </tr>\n",
       "    <tr>\n",
       "      <th>998</th>\n",
       "      <td>45</td>\n",
       "      <td>1845</td>\n",
       "      <td>4</td>\n",
       "      <td>4</td>\n",
       "      <td>23</td>\n",
       "      <td>1</td>\n",
       "      <td>1</td>\n",
       "      <td>so far so good</td>\n",
       "      <td>[0, 100)</td>\n",
       "      <td>[1, 4)</td>\n",
       "      <td>...</td>\n",
       "      <td>overdrawn</td>\n",
       "      <td>television</td>\n",
       "      <td>none</td>\n",
       "      <td>none</td>\n",
       "      <td>without payment</td>\n",
       "      <td>yes</td>\n",
       "      <td>True</td>\n",
       "      <td>male</td>\n",
       "      <td>male single</td>\n",
       "      <td>1</td>\n",
       "    </tr>\n",
       "    <tr>\n",
       "      <th>999</th>\n",
       "      <td>45</td>\n",
       "      <td>4576</td>\n",
       "      <td>3</td>\n",
       "      <td>4</td>\n",
       "      <td>27</td>\n",
       "      <td>1</td>\n",
       "      <td>1</td>\n",
       "      <td>critical</td>\n",
       "      <td>[100, 500)</td>\n",
       "      <td>unemployed</td>\n",
       "      <td>...</td>\n",
       "      <td>petty</td>\n",
       "      <td>used car</td>\n",
       "      <td>none</td>\n",
       "      <td>none</td>\n",
       "      <td>ownership</td>\n",
       "      <td>none</td>\n",
       "      <td>True</td>\n",
       "      <td>male</td>\n",
       "      <td>male single</td>\n",
       "      <td>0</td>\n",
       "    </tr>\n",
       "  </tbody>\n",
       "</table>\n",
       "<p>5 rows × 22 columns</p>\n",
       "</div>"
      ],
      "text/plain": [
       "     tenure  amount  rate  residence  age  credits  maintenance  \\\n",
       "995      12    1736     3          4   31        1            1   \n",
       "996      30    3857     4          4   40        1            1   \n",
       "997      12     804     4          4   38        1            1   \n",
       "998      45    1845     4          4   23        1            1   \n",
       "999      45    4576     3          4   27        1            1   \n",
       "\n",
       "            history     savings  employment  ...      status     purpose  \\\n",
       "995  so far so good    [0, 100)      [4, 7)  ...  no account   furniture   \n",
       "996  so far so good    [0, 100)      [1, 4)  ...   overdrawn    used car   \n",
       "997  so far so good    [0, 100)    [7, inf)  ...  no account  television   \n",
       "998  so far so good    [0, 100)      [1, 4)  ...   overdrawn  television   \n",
       "999        critical  [100, 500)  unemployed  ...       petty    used car   \n",
       "\n",
       "    guarantor installments          housing telephone foreign     sex  \\\n",
       "995      none         none        ownership      none    True  female   \n",
       "996      none         none        ownership       yes    True    male   \n",
       "997      none         none        ownership      none    True    male   \n",
       "998      none         none  without payment       yes    True    male   \n",
       "999      none         none        ownership      none    True    male   \n",
       "\n",
       "                              personal label  \n",
       "995  female divorced/separated/married     0  \n",
       "996            male divorced/separated     0  \n",
       "997                        male single     0  \n",
       "998                        male single     1  \n",
       "999                        male single     0  \n",
       "\n",
       "[5 rows x 22 columns]"
      ]
     },
     "execution_count": 4,
     "metadata": {},
     "output_type": "execute_result"
    }
   ],
   "source": [
    "# Get the (user-friendly) data for a baseline model\n",
    "df = pd.read_csv('data/user_friendly_cats.csv')\n",
    "df.tail(5)"
   ]
  },
  {
   "cell_type": "markdown",
   "metadata": {},
   "source": [
    "# Train test Split"
   ]
  },
  {
   "cell_type": "code",
   "execution_count": 5,
   "metadata": {},
   "outputs": [],
   "source": [
    "# Train Test Split\n",
    "X = df.copy()\n",
    "y = X.pop('label')\n",
    "Xtrain, Xtest, ytrain, ytest = train_test_split(X, y, test_size=0.2, random_state=42)"
   ]
  },
  {
   "cell_type": "markdown",
   "metadata": {},
   "source": [
    "# Baseline model"
   ]
  },
  {
   "cell_type": "code",
   "execution_count": 6,
   "metadata": {},
   "outputs": [],
   "source": [
    "# This baseline model is base on a simple lookup table approach\n",
    "baseline = Baseline(threshold=0.5)\n",
    "baseline.fit(Xtrain, ytrain)\n",
    "ypred = baseline.predict(Xtest)\n"
   ]
  },
  {
   "cell_type": "code",
   "execution_count": 7,
   "metadata": {},
   "outputs": [
    {
     "data": {
      "text/plain": [
       "accuracy     0.73\n",
       "precision    0.55\n",
       "recall       0.47\n",
       "f1           0.51\n",
       "f2           0.49\n",
       "dtype: float64"
      ]
     },
     "execution_count": 7,
     "metadata": {},
     "output_type": "execute_result"
    }
   ],
   "source": [
    "# The default threshold of 0.5 givs ud the following results:\n",
    "classification_scores(ytest, ypred)"
   ]
  },
  {
   "cell_type": "code",
   "execution_count": 8,
   "metadata": {},
   "outputs": [
    {
     "data": {
      "text/plain": [
       "0.5086351820901933"
      ]
     },
     "execution_count": 8,
     "metadata": {},
     "output_type": "execute_result"
    }
   ],
   "source": [
    "# Cross validation F2 score (on the whole dataset)\n",
    "cross_val_score(Baseline(), X, y, scoring=f2, cv=5).mean()"
   ]
  },
  {
   "cell_type": "code",
   "execution_count": 9,
   "metadata": {},
   "outputs": [
    {
     "data": {
      "text/plain": [
       "0.7540569780021636"
      ]
     },
     "execution_count": 9,
     "metadata": {},
     "output_type": "execute_result"
    }
   ],
   "source": [
    "# AUC\n",
    "ytrue = ytest\n",
    "yscore = baseline.predict_proba(Xtest)\n",
    "roc_auc_score(ytrue, yscore)"
   ]
  },
  {
   "cell_type": "code",
   "execution_count": 10,
   "metadata": {},
   "outputs": [
    {
     "name": "stdout",
     "output_type": "stream",
     "text": [
      "threshold = 0.125\n"
     ]
    },
    {
     "data": {
      "text/plain": [
       "accuracy     0.48\n",
       "precision    0.35\n",
       "recall       0.95\n",
       "f1           0.52\n",
       "f2           0.71\n",
       "dtype: float64"
      ]
     },
     "execution_count": 10,
     "metadata": {},
     "output_type": "execute_result"
    }
   ],
   "source": [
    "# The best model's threshold is 0.125 and has the F2 = 0.71\n",
    "gs = GridSearchCV(Baseline(), {'threshold': np.linspace(0.05, 0.2, num=7)}, cv=5, scoring=f2).fit(Xtrain, ytrain)\n",
    "print(\"threshold =\", gs.best_estimator_.threshold)\n",
    "\n",
    "ytrue = ytest\n",
    "ypred = gs.best_estimator_.predict(Xtest)\n",
    "classification_scores(ytrue, ypred)\n"
   ]
  },
  {
   "cell_type": "markdown",
   "metadata": {},
   "source": [
    "So, the goal is to beat the F2-score of 71%"
   ]
  },
  {
   "cell_type": "code",
   "execution_count": null,
   "metadata": {},
   "outputs": [],
   "source": []
  },
  {
   "cell_type": "code",
   "execution_count": null,
   "metadata": {},
   "outputs": [],
   "source": []
  },
  {
   "cell_type": "code",
   "execution_count": null,
   "metadata": {},
   "outputs": [],
   "source": []
  },
  {
   "cell_type": "code",
   "execution_count": null,
   "metadata": {},
   "outputs": [],
   "source": []
  },
  {
   "cell_type": "code",
   "execution_count": null,
   "metadata": {},
   "outputs": [],
   "source": []
  }
 ],
 "metadata": {
  "kernelspec": {
   "display_name": ".venv",
   "language": "python",
   "name": "python3"
  },
  "language_info": {
   "codemirror_mode": {
    "name": "ipython",
    "version": 3
   },
   "file_extension": ".py",
   "mimetype": "text/x-python",
   "name": "python",
   "nbconvert_exporter": "python",
   "pygments_lexer": "ipython3",
   "version": "3.10.12"
  }
 },
 "nbformat": 4,
 "nbformat_minor": 2
}
