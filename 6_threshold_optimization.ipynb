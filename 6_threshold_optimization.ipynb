{
 "cells": [
  {
   "cell_type": "markdown",
   "metadata": {},
   "source": [
    "# TODO"
   ]
  },
  {
   "cell_type": "code",
   "execution_count": 1,
   "metadata": {},
   "outputs": [],
   "source": [
    "import numpy as np, pandas as pd\n",
    "\n",
    "import joblib\n",
    "\n",
    "from sklearn.model_selection import train_test_split, cross_val_score\n",
    "\n",
    "from src.helper_utilities import load_data\n",
    "from src.modeling_utilities import f2_scorer, optimize_threshold"
   ]
  },
  {
   "cell_type": "code",
   "execution_count": 2,
   "metadata": {},
   "outputs": [],
   "source": [
    "random_state = 42\n",
    "cv = 5"
   ]
  },
  {
   "cell_type": "code",
   "execution_count": 3,
   "metadata": {},
   "outputs": [
    {
     "data": {
      "text/html": [
       "<div>\n",
       "<style scoped>\n",
       "    .dataframe tbody tr th:only-of-type {\n",
       "        vertical-align: middle;\n",
       "    }\n",
       "\n",
       "    .dataframe tbody tr th {\n",
       "        vertical-align: top;\n",
       "    }\n",
       "\n",
       "    .dataframe thead th {\n",
       "        text-align: right;\n",
       "    }\n",
       "</style>\n",
       "<table border=\"1\" class=\"dataframe\">\n",
       "  <thead>\n",
       "    <tr style=\"text-align: right;\">\n",
       "      <th></th>\n",
       "      <th>0</th>\n",
       "      <th>1</th>\n",
       "      <th>2</th>\n",
       "      <th>3</th>\n",
       "      <th>4</th>\n",
       "      <th>5</th>\n",
       "      <th>6</th>\n",
       "      <th>7</th>\n",
       "      <th>8</th>\n",
       "      <th>9</th>\n",
       "      <th>10</th>\n",
       "      <th>11</th>\n",
       "      <th>12</th>\n",
       "      <th>13</th>\n",
       "      <th>14</th>\n",
       "      <th>15</th>\n",
       "      <th>16</th>\n",
       "      <th>17</th>\n",
       "      <th>18</th>\n",
       "      <th>19</th>\n",
       "    </tr>\n",
       "  </thead>\n",
       "  <tbody>\n",
       "    <tr>\n",
       "      <th>690</th>\n",
       "      <td>A11</td>\n",
       "      <td>15.0</td>\n",
       "      <td>A34</td>\n",
       "      <td>A42</td>\n",
       "      <td>975.0</td>\n",
       "      <td>A61</td>\n",
       "      <td>A73</td>\n",
       "      <td>2.0</td>\n",
       "      <td>A91</td>\n",
       "      <td>A101</td>\n",
       "      <td>3.0</td>\n",
       "      <td>A122</td>\n",
       "      <td>25.0</td>\n",
       "      <td>A143</td>\n",
       "      <td>A152</td>\n",
       "      <td>2.0</td>\n",
       "      <td>A173</td>\n",
       "      <td>1.0</td>\n",
       "      <td>A191</td>\n",
       "      <td>A201</td>\n",
       "    </tr>\n",
       "    <tr>\n",
       "      <th>296</th>\n",
       "      <td>A14</td>\n",
       "      <td>12.0</td>\n",
       "      <td>A32</td>\n",
       "      <td>A41</td>\n",
       "      <td>4675.0</td>\n",
       "      <td>A65</td>\n",
       "      <td>A72</td>\n",
       "      <td>NaN</td>\n",
       "      <td>A92</td>\n",
       "      <td>A101</td>\n",
       "      <td>4.0</td>\n",
       "      <td>A123</td>\n",
       "      <td>20.0</td>\n",
       "      <td>A143</td>\n",
       "      <td>A151</td>\n",
       "      <td>1.0</td>\n",
       "      <td>A173</td>\n",
       "      <td>1.0</td>\n",
       "      <td>A191</td>\n",
       "      <td>A201</td>\n",
       "    </tr>\n",
       "    <tr>\n",
       "      <th>672</th>\n",
       "      <td>A14</td>\n",
       "      <td>60.0</td>\n",
       "      <td>A32</td>\n",
       "      <td>A40</td>\n",
       "      <td>10366.0</td>\n",
       "      <td>A61</td>\n",
       "      <td>A75</td>\n",
       "      <td>2.0</td>\n",
       "      <td>A93</td>\n",
       "      <td>A101</td>\n",
       "      <td>4.0</td>\n",
       "      <td>A122</td>\n",
       "      <td>42.0</td>\n",
       "      <td>A143</td>\n",
       "      <td>A152</td>\n",
       "      <td>1.0</td>\n",
       "      <td>A174</td>\n",
       "      <td>1.0</td>\n",
       "      <td>A192</td>\n",
       "      <td>A201</td>\n",
       "    </tr>\n",
       "  </tbody>\n",
       "</table>\n",
       "</div>"
      ],
      "text/plain": [
       "      0     1    2    3        4    5    6    7    8     9    10    11    12  \\\n",
       "690  A11  15.0  A34  A42    975.0  A61  A73  2.0  A91  A101  3.0  A122  25.0   \n",
       "296  A14  12.0  A32  A41   4675.0  A65  A72  NaN  A92  A101  4.0  A123  20.0   \n",
       "672  A14  60.0  A32  A40  10366.0  A61  A75  2.0  A93  A101  4.0  A122  42.0   \n",
       "\n",
       "       13    14   15    16   17    18    19  \n",
       "690  A143  A152  2.0  A173  1.0  A191  A201  \n",
       "296  A143  A151  1.0  A173  1.0  A191  A201  \n",
       "672  A143  A152  1.0  A174  1.0  A192  A201  "
      ]
     },
     "execution_count": 3,
     "metadata": {},
     "output_type": "execute_result"
    }
   ],
   "source": [
    "# load the original dataset as df\n",
    "X, y = load_data(mode='modeling', format='dataframe', introduce_nans=0.01, random_state=random_state)\n",
    "\n",
    "# the \"orange\" dataset\n",
    "X_train, X_test, y_train, y_test = train_test_split(X, y, stratify=y, test_size=0.2, random_state=random_state)\n",
    "\n",
    "# the \"green\" dataset\n",
    "X_dev, X_val, y_dev, y_val = train_test_split(X_train, y_train, test_size=0.2, random_state=random_state)\n",
    "\n",
    "# X_... is a pd.DataFrame\n",
    "X_test[:3]"
   ]
  },
  {
   "cell_type": "code",
   "execution_count": 4,
   "metadata": {},
   "outputs": [],
   "source": [
    "best_estimators_and_ensembles = joblib.load(\"models/best_estimators_and_ensembles\")"
   ]
  },
  {
   "cell_type": "code",
   "execution_count": 5,
   "metadata": {},
   "outputs": [
    {
     "name": "stdout",
     "output_type": "stream",
     "text": [
      "0.23232323232323235 0.7658959537572254\n",
      "0.393939393939394 0.7627118644067796\n",
      "0.30303030303030304 0.7671232876712328\n",
      "0.37373737373737376 0.7725947521865889\n",
      "0.4040404040404041 0.771513353115727\n"
     ]
    }
   ],
   "source": [
    "for model in best_estimators_and_ensembles:\n",
    "    threshold, best_score = optimize_threshold(model, X, y, val_size=0.2, metric='f2', random_state=random_state)\n",
    "    print(threshold, best_score)"
   ]
  },
  {
   "cell_type": "code",
   "execution_count": 43,
   "metadata": {},
   "outputs": [
    {
     "name": "stdout",
     "output_type": "stream",
     "text": [
      "0.73\n"
     ]
    }
   ],
   "source": [
    "best_model = best_estimators_and_ensembles[1]  # Logistic Regression (poly)\n",
    "\n",
    "joblib.dump(best_model, 'models/best_model.pkl')\n",
    "\n",
    "def predict(X, model=best_model, threshold=0.42424242424242425):\n",
    "    return (model.predict_proba(X)[:, -1] >= threshold).astype(int)\n",
    "\n",
    "\n",
    "\n",
    "class BestModel:\n",
    "    model = best_model\n",
    "    threshold = 0.42424242424242425\n",
    "\n",
    "    def fit(self, X, y):\n",
    "        self.model.fit(X, y)\n",
    "        return self\n",
    "\n",
    "    def predict(self, X, y=None):\n",
    "        return (self.model.predict_proba(X)[:, -1] >= self.threshold).astype(int)\n",
    "\n",
    "\n",
    "\n",
    "bestmodel = BestModel()\n",
    "\n",
    "\n",
    "\n",
    "bestmodel.fit(X_train, y_train)\n",
    "\n",
    "joblib.dump(bestmodel, 'models/bestmodel.pkl')\n",
    "\n",
    "y_true = y_test.astype(int).values\n",
    "y_pred = bestmodel.predict(X_test)\n",
    "\n",
    "print(f2_scorer(y_true, y_pred).round(2))\n",
    "\n",
    "\n"
   ]
  },
  {
   "cell_type": "code",
   "execution_count": 13,
   "metadata": {},
   "outputs": [
    {
     "name": "stdout",
     "output_type": "stream",
     "text": [
      "['A11', 6.0, 'A34', 'A43', 1169.0, 'A65', 'A75', 4.0, 'A93', 'A101', 4.0, 'A121', 67.0, 'A143', 'A152', 2.0, 'A173', 1.0, 'A192', 'A201']\n"
     ]
    },
    {
     "data": {
      "text/plain": [
       "0"
      ]
     },
     "execution_count": 13,
     "metadata": {},
     "output_type": "execute_result"
    }
   ],
   "source": [
    "model = joblib.load('models/bestmodel.pkl')\n",
    "\n",
    "# Load data\n",
    "X = load_data(mode='predict', format='ndarray', introduce_nans=0.01, random_state=None)\n",
    "x = list(X[0])\n",
    "print(x)\n",
    "\n",
    "model.predict([x]).astype(int).tolist()[0]\n",
    "\n"
   ]
  },
  {
   "cell_type": "code",
   "execution_count": 40,
   "metadata": {},
   "outputs": [
    {
     "name": "stdout",
     "output_type": "stream",
     "text": [
      "{'prediction': 0}\n"
     ]
    }
   ],
   "source": [
    "X = load_data(mode='predict', format='ndarray', introduce_nans=False, random_state=None)\n",
    "x = list(X[0])\n",
    "\n",
    "url = \"http://localhost:8000/predict\"  # or ...\n",
    "url = 'http://127.0.0.1:8000/predict'\n",
    "\n",
    "data = {\"values\": x}\n",
    "\n",
    "response = requests.post(url, json=data)\n",
    "print(response.json())"
   ]
  },
  {
   "cell_type": "code",
   "execution_count": null,
   "metadata": {},
   "outputs": [],
   "source": []
  }
 ],
 "metadata": {
  "kernelspec": {
   "display_name": ".venv",
   "language": "python",
   "name": "python3"
  },
  "language_info": {
   "codemirror_mode": {
    "name": "ipython",
    "version": 3
   },
   "file_extension": ".py",
   "mimetype": "text/x-python",
   "name": "python",
   "nbconvert_exporter": "python",
   "pygments_lexer": "ipython3",
   "version": "3.10.12"
  }
 },
 "nbformat": 4,
 "nbformat_minor": 2
}
